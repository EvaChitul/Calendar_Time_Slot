{
  "nbformat": 4,
  "nbformat_minor": 0,
  "metadata": {
    "colab": {
      "name": "Calendar.ipynb",
      "provenance": [],
      "authorship_tag": "ABX9TyOUf91oxCl0aiXBVbFSkeDT",
      "include_colab_link": true
    },
    "kernelspec": {
      "name": "python3",
      "display_name": "Python 3"
    }
  },
  "cells": [
    {
      "cell_type": "markdown",
      "metadata": {
        "id": "view-in-github",
        "colab_type": "text"
      },
      "source": [
        "<a href=\"https://colab.research.google.com/github/EvaChitul/Calendar_Time_Slot/blob/master/Calendar.ipynb\" target=\"_parent\"><img src=\"https://colab.research.google.com/assets/colab-badge.svg\" alt=\"Open In Colab\"/></a>"
      ]
    },
    {
      "cell_type": "code",
      "metadata": {
        "id": "bLsFxxXmYRlE",
        "colab_type": "code",
        "colab": {
          "base_uri": "https://localhost:8080/",
          "height": 34
        },
        "outputId": "e3dd0577-2542-4c5a-8de2-0d91363a06b1"
      },
      "source": [
        "list1 = [['09:00', '10:30'],['10:30', '11:55'], ['12:30', '13:00'], ['16:00', '17:00']]\n",
        "ext1 = ['9:00', '20:00']\n",
        "list2 = [['10:00', '11:30'], ['12:05', '14:30'], ['14:30', '15:00'], ['16:00', '17:00']]\n",
        "ext2 = ['10:00', '18:30']\n",
        "\n",
        "def change_small(list):\n",
        "  \"\"\"\n",
        "  Transforms start/end times for the calendars to float\n",
        "  \"\"\"\n",
        "  list = [ float(i.replace(':', '.')) for i in list]  \n",
        "  return list\n",
        "\n",
        "def change_big(otherlist):\n",
        "  \"\"\"\n",
        "  Transforms calendar busy slots to float\n",
        "  \"\"\"\n",
        "  otherlist = [ [float(item.replace(':', '.')) for item in otheri] for otheri in otherlist]\n",
        "  return otherlist\n",
        "\n",
        "ext = ext1 + ext2\n",
        "listfull = list1 + list2\n",
        "\n",
        "def start_end_time(lista):\n",
        "  \"\"\"\n",
        "  Compares start and end times from the merged list of all start/end times and returns the overlap (eg latest start time and earliest end time)\n",
        "  NB: This will not work if a start/end time is missing in the input\n",
        "  \"\"\"\n",
        "  newlist = []\n",
        "  lung = len(lista)\n",
        "  newlist = change_small(lista)\n",
        "  newlist.sort()\n",
        "  lateno = newlist[lung//2]\n",
        "  earlyno = newlist[lung//2 - 1]\n",
        "  startfinish = [earlyno, lateno]\n",
        "\n",
        "  return startfinish\n",
        "  \n",
        "def full_calendar(liste):\n",
        "  \"\"\"\n",
        "  Merges the calendars and sorts the result.  \n",
        "  \"\"\"\n",
        "  otherlist = []\n",
        "  fullnewlist = change_big(liste)\n",
        "  fullnewlist.sort()\n",
        "  return fullnewlist\n",
        "\n",
        "def find_slots(calendar, startfinish):\n",
        "  \"\"\"\n",
        "  Using the sorted calendars merge, it finds available slots. Finally, it checkes whether any other slots may be available following the last meeting and before the end time.\n",
        "  \"\"\"\n",
        "  options = []\n",
        "  min = max(calendar[0][1], startfinish[0])\n",
        "  for item in calendar[1:]:\n",
        "    if min >= item[0] and min <= item[1]:\n",
        "      min = item[1]\n",
        "    elif min >= item[0] and min > item[1]:\n",
        "      continue\n",
        "    elif min < item[0] and item[1] <= startfinish[1]:\n",
        "      options.append([min,item[0]])\n",
        "      min = item[1]\n",
        "    else:\n",
        "      break\n",
        "      \n",
        "  if calendar[-1][1] < startfinish[1]:\n",
        "    options.append([calendar[-1][1], startfinish[1]])\n",
        "  \n",
        "  for item in options:\n",
        "  \"\"\"\n",
        "  Ensuring there are no meetings if time available is under 15 mins\n",
        "  \"\"\"  \n",
        "    if int(item[0]) == int(item[1]):\n",
        "      if item[1] - item[0] < 0.15:\n",
        "        options.remove(item)\n",
        "      else:\n",
        "        continue\n",
        "    else:\n",
        "      if item[1] - item[0] < 0.55:\n",
        "        options.remove(item)\n",
        "      else:\n",
        "        continue\n",
        "\n",
        "  return options\n",
        "\n",
        "find_slots(full_calendar(listfull), start_end_time(ext))\n",
        "    \n",
        "\n",
        "\n",
        "#full_calendar(listfull)\n",
        "#start_end_time(ext)"
      ],
      "execution_count": 24,
      "outputs": [
        {
          "output_type": "execute_result",
          "data": {
            "text/plain": [
              "[[15.0, 16.0], [17.0, 18.3]]"
            ]
          },
          "metadata": {
            "tags": []
          },
          "execution_count": 24
        }
      ]
    },
    {
      "cell_type": "code",
      "metadata": {
        "id": "XV1r0J6pvzgY",
        "colab_type": "code",
        "colab": {}
      },
      "source": [
        ""
      ],
      "execution_count": 0,
      "outputs": []
    }
  ]
}